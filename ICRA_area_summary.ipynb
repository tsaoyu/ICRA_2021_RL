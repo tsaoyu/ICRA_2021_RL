{
 "cells": [
  {
   "cell_type": "code",
   "execution_count": 1,
   "metadata": {},
   "outputs": [],
   "source": [
    "import pandas as pd"
   ]
  },
  {
   "cell_type": "markdown",
   "metadata": {},
   "source": [
    "It is easy to generate papers summary for any area. See more at README\n",
    "\n",
    "\n"
   ]
  },
  {
   "cell_type": "code",
   "execution_count": 2,
   "metadata": {},
   "outputs": [],
   "source": [
    "from html.parser import HTMLParser\n",
    "\n",
    "paper_session = []\n",
    "class MyHTMLParser(HTMLParser):\n",
    "    \n",
    "    def handle_starttag(self, tag, attrs):\n",
    "        self.data = attrs\n",
    "\n",
    "    def handle_endtag(self, tag):\n",
    "        pass\n",
    "\n",
    "    def handle_data(self, data):\n",
    "        if len(data) > 2:\n",
    "            #print(\"Encountered some data  :\", data)\n",
    "            paper_session.append([self.data, data])\n",
    "        \n",
    "\n",
    "parser = MyHTMLParser()\n",
    "\n",
    "\n",
    "file = open('./rlpapers.txt')\n",
    "lines = file.read()\n",
    "\n",
    "parser.feed(lines)"
   ]
  },
  {
   "cell_type": "code",
   "execution_count": 3,
   "metadata": {},
   "outputs": [],
   "source": [
    "full_list = []\n",
    "def session_processing(s):\n",
    "    return [s[1],s[0][0][1]]\n",
    "for s in paper_session:\n",
    "    full_list.append(session_processing(s))"
   ]
  },
  {
   "cell_type": "code",
   "execution_count": 4,
   "metadata": {},
   "outputs": [
    {
     "name": "stdout",
     "output_type": "stream",
     "text": [
      "There are 159 papers in your selection.\n"
     ]
    }
   ],
   "source": [
    "print(\"There are {} papers in your selection.\".format(len(full_list)))"
   ]
  },
  {
   "cell_type": "code",
   "execution_count": 5,
   "metadata": {},
   "outputs": [],
   "source": [
    "import requests"
   ]
  },
  {
   "cell_type": "code",
   "execution_count": 6,
   "metadata": {},
   "outputs": [],
   "source": [
    "request1 = requests.get('https://ras.papercept.net/conferences/conferences/ICRA21/program/ICRA21_ContentListWeb_1.html')\n",
    "request2 = requests.get('https://ras.papercept.net/conferences/conferences/ICRA21/program/ICRA21_ContentListWeb_2.html')\n",
    "request3 = requests.get('https://ras.papercept.net/conferences/conferences/ICRA21/program/ICRA21_ContentListWeb_3.html')"
   ]
  },
  {
   "cell_type": "code",
   "execution_count": 7,
   "metadata": {},
   "outputs": [],
   "source": [
    "data1 = request1.content\n",
    "data2 = request2.content\n",
    "data3 = request3.content"
   ]
  },
  {
   "cell_type": "code",
   "execution_count": 8,
   "metadata": {},
   "outputs": [],
   "source": [
    "[data1, data2, data3];"
   ]
  },
  {
   "cell_type": "code",
   "execution_count": 9,
   "metadata": {},
   "outputs": [],
   "source": [
    "from bs4 import BeautifulSoup\n",
    "soup = BeautifulSoup(data1, 'html.parser')"
   ]
  },
  {
   "cell_type": "code",
   "execution_count": 10,
   "metadata": {},
   "outputs": [],
   "source": [
    "soup1, soup2, soup3 = [BeautifulSoup(data1, 'html.parser'), \n",
    "                       BeautifulSoup(data2, 'html.parser'),\n",
    "                       BeautifulSoup(data3, 'html.parser')]"
   ]
  },
  {
   "cell_type": "code",
   "execution_count": 11,
   "metadata": {},
   "outputs": [],
   "source": [
    "soups = [soup1, soup2, soup3]"
   ]
  },
  {
   "cell_type": "code",
   "execution_count": 12,
   "metadata": {},
   "outputs": [],
   "source": [
    "def summary_data(paper_info):\n",
    "    web_page,paper_id = paper_info[-1].rsplit('#')\n",
    "    soup = soups[int(web_page.split('.')[0][-1])-1]\n",
    "    a = soup.find('a', {\"name\":paper_id})\n",
    "    title = a.find_next('a', {\"title\":\"Click to show or hide the keywords and abstract (text summary)\"}).string\n",
    "    abstract = a.find_next('div').text.rsplit('Abstract: ')[-1]\n",
    "    author_list = []\n",
    "    for name in a.find_all_next('a'):\n",
    "        try:\n",
    "            name[\"name\"] != None\n",
    "            break\n",
    "        except:\n",
    "            if name[\"title\"] == \"Click to go to the Author Index\":\n",
    "                author_list.append(name.text)\n",
    "    aff_list = []\n",
    "    td_counter = 0\n",
    "    for name in a.find_all_next(\"td\", {\"class\":\"r\"}):\n",
    "        if \"Add to\" in name.text:\n",
    "            if td_counter == 1:\n",
    "                break\n",
    "            td_counter += 1\n",
    "        else:\n",
    "            aff_list.append(name.text)\n",
    "            \n",
    "    return title, abstract, author_list, aff_list"
   ]
  },
  {
   "cell_type": "code",
   "execution_count": 13,
   "metadata": {},
   "outputs": [],
   "source": [
    "rl_icra = []"
   ]
  },
  {
   "cell_type": "code",
   "execution_count": 14,
   "metadata": {},
   "outputs": [],
   "source": [
    "for s in full_list:\n",
    "    rl_icra.append(summary_data(s))"
   ]
  },
  {
   "cell_type": "code",
   "execution_count": 15,
   "metadata": {},
   "outputs": [],
   "source": [
    "df = pd.DataFrame(data=rl_icra)"
   ]
  },
  {
   "cell_type": "code",
   "execution_count": 16,
   "metadata": {},
   "outputs": [],
   "source": [
    "df.columns  = [\"Title\", \"Abstract\",\"Authors\", \"Affiliations\"]"
   ]
  },
  {
   "cell_type": "code",
   "execution_count": 17,
   "metadata": {},
   "outputs": [],
   "source": [
    "df.to_csv(\"ICRA_long.csv\")"
   ]
  },
  {
   "cell_type": "code",
   "execution_count": 18,
   "metadata": {},
   "outputs": [],
   "source": [
    "au_af = []"
   ]
  },
  {
   "cell_type": "code",
   "execution_count": 19,
   "metadata": {},
   "outputs": [],
   "source": [
    "for i, row in df.iterrows():\n",
    "    j = 0 \n",
    "    for r in row[\"Authors\"]:\n",
    "        au_af.append(r + \"_\" +row[\"Affiliations\"][j])\n",
    "        j += 1"
   ]
  },
  {
   "cell_type": "code",
   "execution_count": 20,
   "metadata": {},
   "outputs": [],
   "source": [
    "from collections import Counter"
   ]
  },
  {
   "cell_type": "code",
   "execution_count": 21,
   "metadata": {},
   "outputs": [],
   "source": [
    "ct = Counter(au_af)"
   ]
  },
  {
   "cell_type": "code",
   "execution_count": 22,
   "metadata": {},
   "outputs": [],
   "source": [
    "for i, row in df.iterrows():\n",
    "    j = 0\n",
    "    max_p = 0\n",
    "    for r in row[\"Authors\"]:\n",
    "        a = r + \"_\" +row[\"Affiliations\"][j]\n",
    "        if ct[a] > max_p:\n",
    "            max_p = ct[a]\n",
    "        au_af.append(a)\n",
    "        j += 1\n",
    "    df.at[i,\"max_p\"] = max_p\n",
    "        "
   ]
  },
  {
   "cell_type": "code",
   "execution_count": 23,
   "metadata": {},
   "outputs": [
    {
     "data": {
      "text/html": [
       "<div>\n",
       "<style scoped>\n",
       "    .dataframe tbody tr th:only-of-type {\n",
       "        vertical-align: middle;\n",
       "    }\n",
       "\n",
       "    .dataframe tbody tr th {\n",
       "        vertical-align: top;\n",
       "    }\n",
       "\n",
       "    .dataframe thead th {\n",
       "        text-align: right;\n",
       "    }\n",
       "</style>\n",
       "<table border=\"1\" class=\"dataframe\">\n",
       "  <thead>\n",
       "    <tr style=\"text-align: right;\">\n",
       "      <th></th>\n",
       "      <th>Title</th>\n",
       "      <th>Abstract</th>\n",
       "      <th>Authors</th>\n",
       "      <th>Affiliations</th>\n",
       "      <th>max_p</th>\n",
       "    </tr>\n",
       "  </thead>\n",
       "  <tbody>\n",
       "    <tr>\n",
       "      <th>0</th>\n",
       "      <td>Towards Efficient Multiview Object Detection w...</td>\n",
       "      <td>Active vision is a desirable perceptual featur...</td>\n",
       "      <td>[Xu, Qianli, Fang, Fen, Gauthier, Nicolas, Lia...</td>\n",
       "      <td>[Institute for Infocomm Research, I2R, Institu...</td>\n",
       "      <td>1.0</td>\n",
       "    </tr>\n",
       "    <tr>\n",
       "      <th>1</th>\n",
       "      <td>Deep Reinforcement Learning Framework for Unde...</td>\n",
       "      <td>Soft robotics is an emerging technology with e...</td>\n",
       "      <td>[Li, Guanda, Shintake, Jun, Hayashibe, Mitsuhiro]</td>\n",
       "      <td>[Tohoku University, University of Electro-Comm...</td>\n",
       "      <td>2.0</td>\n",
       "    </tr>\n",
       "    <tr>\n",
       "      <th>2</th>\n",
       "      <td>Robotic Imitation of Human Assembly Skills Usi...</td>\n",
       "      <td>Robotic assembly tasks involve complex and low...</td>\n",
       "      <td>[Wang, Yan, Beltran-Hernandez, Cristian Camilo...</td>\n",
       "      <td>[Osaka University, Osaka University, Osaka Uni...</td>\n",
       "      <td>1.0</td>\n",
       "    </tr>\n",
       "    <tr>\n",
       "      <th>3</th>\n",
       "      <td>Context-Aware Safe Reinforcement Learning for ...</td>\n",
       "      <td>Safety is a critical concern when deploying re...</td>\n",
       "      <td>[Chen, Baiming, Liu, Zuxin, Zhu, Jiacheng, Xu,...</td>\n",
       "      <td>[Tsinghua University, Carnegie Mellon Universi...</td>\n",
       "      <td>2.0</td>\n",
       "    </tr>\n",
       "    <tr>\n",
       "      <th>4</th>\n",
       "      <td>Quantification of Joint Redundancy Considering...</td>\n",
       "      <td>The robotic joint redundancy for executing a t...</td>\n",
       "      <td>[Chai, Jiazheng, Hayashibe, Mitsuhiro]</td>\n",
       "      <td>[Tohoku University, Tohoku University]</td>\n",
       "      <td>2.0</td>\n",
       "    </tr>\n",
       "    <tr>\n",
       "      <th>...</th>\n",
       "      <td>...</td>\n",
       "      <td>...</td>\n",
       "      <td>...</td>\n",
       "      <td>...</td>\n",
       "      <td>...</td>\n",
       "    </tr>\n",
       "    <tr>\n",
       "      <th>154</th>\n",
       "      <td>Multi-Target Coverage with Connectivity Mainte...</td>\n",
       "      <td>This paper considers a multi-target coverage p...</td>\n",
       "      <td>[Wu, Shiguang, Pu, Zhiqiang, Liu, Zhen, Qiu, T...</td>\n",
       "      <td>[Chinese Academy of Sciences Beijing, China, U...</td>\n",
       "      <td>1.0</td>\n",
       "    </tr>\n",
       "    <tr>\n",
       "      <th>155</th>\n",
       "      <td>Remote-Center-Of-Motion Recommendation Toward ...</td>\n",
       "      <td>Brain needle intervention is a typical diagnos...</td>\n",
       "      <td>[Gao, Huxin, Xiao, Xiao, Qiu, Liang, Meng, Max...</td>\n",
       "      <td>[National University of Singapore, Southern Un...</td>\n",
       "      <td>1.0</td>\n",
       "    </tr>\n",
       "    <tr>\n",
       "      <th>156</th>\n",
       "      <td>A General Approach for the Automation of Hydra...</td>\n",
       "      <td>This article presents a general approach to de...</td>\n",
       "      <td>[Egli, Pascal Arturo, Hutter, Marco]</td>\n",
       "      <td>[RSL, ETHZ, ETH Zurich]</td>\n",
       "      <td>1.0</td>\n",
       "    </tr>\n",
       "    <tr>\n",
       "      <th>157</th>\n",
       "      <td>Relational Navigation Learning in Continuous A...</td>\n",
       "      <td>In this paper, a novel navigation learning met...</td>\n",
       "      <td>[Zhang, Xueyou, Xi, Wei, Guo, Xian, Fang, Yong...</td>\n",
       "      <td>[Nankai University, Nankai University, Nankai ...</td>\n",
       "      <td>1.0</td>\n",
       "    </tr>\n",
       "    <tr>\n",
       "      <th>158</th>\n",
       "      <td>Autonomous Overtaking in Gran Turismo Sport Us...</td>\n",
       "      <td>Professional race-car drivers can execute extr...</td>\n",
       "      <td>[Song, Yunlong, Lin, HaoChih, Kaufmann, Elia, ...</td>\n",
       "      <td>[University of Zurich, ETH Zurich, University ...</td>\n",
       "      <td>2.0</td>\n",
       "    </tr>\n",
       "  </tbody>\n",
       "</table>\n",
       "<p>159 rows × 5 columns</p>\n",
       "</div>"
      ],
      "text/plain": [
       "                                                 Title  \\\n",
       "0    Towards Efficient Multiview Object Detection w...   \n",
       "1    Deep Reinforcement Learning Framework for Unde...   \n",
       "2    Robotic Imitation of Human Assembly Skills Usi...   \n",
       "3    Context-Aware Safe Reinforcement Learning for ...   \n",
       "4    Quantification of Joint Redundancy Considering...   \n",
       "..                                                 ...   \n",
       "154  Multi-Target Coverage with Connectivity Mainte...   \n",
       "155  Remote-Center-Of-Motion Recommendation Toward ...   \n",
       "156  A General Approach for the Automation of Hydra...   \n",
       "157  Relational Navigation Learning in Continuous A...   \n",
       "158  Autonomous Overtaking in Gran Turismo Sport Us...   \n",
       "\n",
       "                                              Abstract  \\\n",
       "0    Active vision is a desirable perceptual featur...   \n",
       "1    Soft robotics is an emerging technology with e...   \n",
       "2    Robotic assembly tasks involve complex and low...   \n",
       "3    Safety is a critical concern when deploying re...   \n",
       "4    The robotic joint redundancy for executing a t...   \n",
       "..                                                 ...   \n",
       "154  This paper considers a multi-target coverage p...   \n",
       "155  Brain needle intervention is a typical diagnos...   \n",
       "156  This article presents a general approach to de...   \n",
       "157  In this paper, a novel navigation learning met...   \n",
       "158  Professional race-car drivers can execute extr...   \n",
       "\n",
       "                                               Authors  \\\n",
       "0    [Xu, Qianli, Fang, Fen, Gauthier, Nicolas, Lia...   \n",
       "1    [Li, Guanda, Shintake, Jun, Hayashibe, Mitsuhiro]   \n",
       "2    [Wang, Yan, Beltran-Hernandez, Cristian Camilo...   \n",
       "3    [Chen, Baiming, Liu, Zuxin, Zhu, Jiacheng, Xu,...   \n",
       "4               [Chai, Jiazheng, Hayashibe, Mitsuhiro]   \n",
       "..                                                 ...   \n",
       "154  [Wu, Shiguang, Pu, Zhiqiang, Liu, Zhen, Qiu, T...   \n",
       "155  [Gao, Huxin, Xiao, Xiao, Qiu, Liang, Meng, Max...   \n",
       "156               [Egli, Pascal Arturo, Hutter, Marco]   \n",
       "157  [Zhang, Xueyou, Xi, Wei, Guo, Xian, Fang, Yong...   \n",
       "158  [Song, Yunlong, Lin, HaoChih, Kaufmann, Elia, ...   \n",
       "\n",
       "                                          Affiliations  max_p  \n",
       "0    [Institute for Infocomm Research, I2R, Institu...    1.0  \n",
       "1    [Tohoku University, University of Electro-Comm...    2.0  \n",
       "2    [Osaka University, Osaka University, Osaka Uni...    1.0  \n",
       "3    [Tsinghua University, Carnegie Mellon Universi...    2.0  \n",
       "4               [Tohoku University, Tohoku University]    2.0  \n",
       "..                                                 ...    ...  \n",
       "154  [Chinese Academy of Sciences Beijing, China, U...    1.0  \n",
       "155  [National University of Singapore, Southern Un...    1.0  \n",
       "156                            [RSL, ETHZ, ETH Zurich]    1.0  \n",
       "157  [Nankai University, Nankai University, Nankai ...    1.0  \n",
       "158  [University of Zurich, ETH Zurich, University ...    2.0  \n",
       "\n",
       "[159 rows x 5 columns]"
      ]
     },
     "execution_count": 23,
     "metadata": {},
     "output_type": "execute_result"
    }
   ],
   "source": [
    "df"
   ]
  },
  {
   "cell_type": "code",
   "execution_count": 24,
   "metadata": {},
   "outputs": [],
   "source": [
    "df = df.sort_values(by=[\"max_p\"],ascending=False)"
   ]
  },
  {
   "cell_type": "code",
   "execution_count": 25,
   "metadata": {},
   "outputs": [
    {
     "data": {
      "text/html": [
       "<div>\n",
       "<style scoped>\n",
       "    .dataframe tbody tr th:only-of-type {\n",
       "        vertical-align: middle;\n",
       "    }\n",
       "\n",
       "    .dataframe tbody tr th {\n",
       "        vertical-align: top;\n",
       "    }\n",
       "\n",
       "    .dataframe thead th {\n",
       "        text-align: right;\n",
       "    }\n",
       "</style>\n",
       "<table border=\"1\" class=\"dataframe\">\n",
       "  <thead>\n",
       "    <tr style=\"text-align: right;\">\n",
       "      <th></th>\n",
       "      <th>Title</th>\n",
       "      <th>Abstract</th>\n",
       "      <th>Authors</th>\n",
       "      <th>Affiliations</th>\n",
       "      <th>max_p</th>\n",
       "    </tr>\n",
       "  </thead>\n",
       "  <tbody>\n",
       "    <tr>\n",
       "      <th>137</th>\n",
       "      <td>Reset-Free Reinforcement Learning Via Multi-Ta...</td>\n",
       "      <td>Reinforcement Learning (RL) algorithms can in ...</td>\n",
       "      <td>[Gupta, Abhishek, Yu, Justin, Zhao, Zihao, Kum...</td>\n",
       "      <td>[UC Berkeley, UC Berkeley, UC Berkeley, Univ. ...</td>\n",
       "      <td>9.0</td>\n",
       "    </tr>\n",
       "    <tr>\n",
       "      <th>120</th>\n",
       "      <td>DisCo RL: Distribution-Conditioned Reinforceme...</td>\n",
       "      <td>Can we use reinforcement learning to instead l...</td>\n",
       "      <td>[Nasiriany, Soroush, Pong, Vitchyr, Nair, Ashv...</td>\n",
       "      <td>[UC Berkeley, UC Berkeley, UC Berkeley, UC Ber...</td>\n",
       "      <td>9.0</td>\n",
       "    </tr>\n",
       "    <tr>\n",
       "      <th>33</th>\n",
       "      <td>What Can I Do Here? Learning New Skills by Ima...</td>\n",
       "      <td>A generalist robot equipped with learned skill...</td>\n",
       "      <td>[Khazatsky, Alexander, Nair, Ashvin, Jing, Dan...</td>\n",
       "      <td>[UC Berkeley, UC Berkeley, University of Calif...</td>\n",
       "      <td>9.0</td>\n",
       "    </tr>\n",
       "    <tr>\n",
       "      <th>134</th>\n",
       "      <td>Reinforcement Learning for Robust Parameterize...</td>\n",
       "      <td>Developing robust walking controllers for bipe...</td>\n",
       "      <td>[Li, Zhongyu, Cheng, Xuxin, Peng, Xue Bin, Abb...</td>\n",
       "      <td>[University of California, Berkeley, Universit...</td>\n",
       "      <td>9.0</td>\n",
       "    </tr>\n",
       "    <tr>\n",
       "      <th>26</th>\n",
       "      <td>Model-Based Meta-Reinforcement Learning for Fl...</td>\n",
       "      <td>Transporting suspended payloads is challenging...</td>\n",
       "      <td>[Belkhale, Suneel, Kahn, Gregory, McAllister, ...</td>\n",
       "      <td>[Stanford University, University of California...</td>\n",
       "      <td>9.0</td>\n",
       "    </tr>\n",
       "    <tr>\n",
       "      <th>...</th>\n",
       "      <td>...</td>\n",
       "      <td>...</td>\n",
       "      <td>...</td>\n",
       "      <td>...</td>\n",
       "      <td>...</td>\n",
       "    </tr>\n",
       "    <tr>\n",
       "      <th>52</th>\n",
       "      <td>A Peg-In-Hole Task Strategy for Holes in Concrete</td>\n",
       "      <td>A method that enables an industrial robot to a...</td>\n",
       "      <td>[Yasutomi, André Yuji, Mori, Hiroki, Ogata, Te...</td>\n",
       "      <td>[Hitachi Ltd, Waseda University, Waseda Univer...</td>\n",
       "      <td>1.0</td>\n",
       "    </tr>\n",
       "    <tr>\n",
       "      <th>51</th>\n",
       "      <td>Learning from Demonstration without Demonstrat...</td>\n",
       "      <td>State-of-the-art reinforcement learning (RL) a...</td>\n",
       "      <td>[Blau, Tom, Morere, Philippe, Francis, Gilad]</td>\n",
       "      <td>[University of Sydney, University of Sydney, T...</td>\n",
       "      <td>1.0</td>\n",
       "    </tr>\n",
       "    <tr>\n",
       "      <th>50</th>\n",
       "      <td>Dreaming: Model-Based Reinforcement Learning b...</td>\n",
       "      <td>In the present paper, we propose a decoder-fre...</td>\n",
       "      <td>[Okada, Masashi, Taniguchi, Tadahiro]</td>\n",
       "      <td>[Panasonic Corporation, Ritsumeikan University]</td>\n",
       "      <td>1.0</td>\n",
       "    </tr>\n",
       "    <tr>\n",
       "      <th>49</th>\n",
       "      <td>Sample Efficient Reinforcement Learning Via Mo...</td>\n",
       "      <td>Model-based deep reinforcement learning has ac...</td>\n",
       "      <td>[Yao, Yao, Xiao, Li, An, Zhicheng, Zhang, Wanp...</td>\n",
       "      <td>[Tsinghua-Berkeley Shenzhen Institute, Tsinghu...</td>\n",
       "      <td>1.0</td>\n",
       "    </tr>\n",
       "    <tr>\n",
       "      <th>79</th>\n",
       "      <td>Sample-Efficient Reinforcement Learning in Rob...</td>\n",
       "      <td>Reinforcement learning (RL) has recently shown...</td>\n",
       "      <td>[Tebbe, Jonas, Krauch, Lukas, Gao, Yapeng, Zel...</td>\n",
       "      <td>[University of Tübingen, University of Tübinge...</td>\n",
       "      <td>1.0</td>\n",
       "    </tr>\n",
       "  </tbody>\n",
       "</table>\n",
       "<p>159 rows × 5 columns</p>\n",
       "</div>"
      ],
      "text/plain": [
       "                                                 Title  \\\n",
       "137  Reset-Free Reinforcement Learning Via Multi-Ta...   \n",
       "120  DisCo RL: Distribution-Conditioned Reinforceme...   \n",
       "33   What Can I Do Here? Learning New Skills by Ima...   \n",
       "134  Reinforcement Learning for Robust Parameterize...   \n",
       "26   Model-Based Meta-Reinforcement Learning for Fl...   \n",
       "..                                                 ...   \n",
       "52   A Peg-In-Hole Task Strategy for Holes in Concrete   \n",
       "51   Learning from Demonstration without Demonstrat...   \n",
       "50   Dreaming: Model-Based Reinforcement Learning b...   \n",
       "49   Sample Efficient Reinforcement Learning Via Mo...   \n",
       "79   Sample-Efficient Reinforcement Learning in Rob...   \n",
       "\n",
       "                                              Abstract  \\\n",
       "137  Reinforcement Learning (RL) algorithms can in ...   \n",
       "120  Can we use reinforcement learning to instead l...   \n",
       "33   A generalist robot equipped with learned skill...   \n",
       "134  Developing robust walking controllers for bipe...   \n",
       "26   Transporting suspended payloads is challenging...   \n",
       "..                                                 ...   \n",
       "52   A method that enables an industrial robot to a...   \n",
       "51   State-of-the-art reinforcement learning (RL) a...   \n",
       "50   In the present paper, we propose a decoder-fre...   \n",
       "49   Model-based deep reinforcement learning has ac...   \n",
       "79   Reinforcement learning (RL) has recently shown...   \n",
       "\n",
       "                                               Authors  \\\n",
       "137  [Gupta, Abhishek, Yu, Justin, Zhao, Zihao, Kum...   \n",
       "120  [Nasiriany, Soroush, Pong, Vitchyr, Nair, Ashv...   \n",
       "33   [Khazatsky, Alexander, Nair, Ashvin, Jing, Dan...   \n",
       "134  [Li, Zhongyu, Cheng, Xuxin, Peng, Xue Bin, Abb...   \n",
       "26   [Belkhale, Suneel, Kahn, Gregory, McAllister, ...   \n",
       "..                                                 ...   \n",
       "52   [Yasutomi, André Yuji, Mori, Hiroki, Ogata, Te...   \n",
       "51       [Blau, Tom, Morere, Philippe, Francis, Gilad]   \n",
       "50               [Okada, Masashi, Taniguchi, Tadahiro]   \n",
       "49   [Yao, Yao, Xiao, Li, An, Zhicheng, Zhang, Wanp...   \n",
       "79   [Tebbe, Jonas, Krauch, Lukas, Gao, Yapeng, Zel...   \n",
       "\n",
       "                                          Affiliations  max_p  \n",
       "137  [UC Berkeley, UC Berkeley, UC Berkeley, Univ. ...    9.0  \n",
       "120  [UC Berkeley, UC Berkeley, UC Berkeley, UC Ber...    9.0  \n",
       "33   [UC Berkeley, UC Berkeley, University of Calif...    9.0  \n",
       "134  [University of California, Berkeley, Universit...    9.0  \n",
       "26   [Stanford University, University of California...    9.0  \n",
       "..                                                 ...    ...  \n",
       "52   [Hitachi Ltd, Waseda University, Waseda Univer...    1.0  \n",
       "51   [University of Sydney, University of Sydney, T...    1.0  \n",
       "50     [Panasonic Corporation, Ritsumeikan University]    1.0  \n",
       "49   [Tsinghua-Berkeley Shenzhen Institute, Tsinghu...    1.0  \n",
       "79   [University of Tübingen, University of Tübinge...    1.0  \n",
       "\n",
       "[159 rows x 5 columns]"
      ]
     },
     "execution_count": 25,
     "metadata": {},
     "output_type": "execute_result"
    }
   ],
   "source": [
    "df"
   ]
  },
  {
   "cell_type": "code",
   "execution_count": 26,
   "metadata": {},
   "outputs": [],
   "source": [
    "df.to_csv(\"ICRA_long_sorted.csv\")"
   ]
  },
  {
   "cell_type": "code",
   "execution_count": 27,
   "metadata": {},
   "outputs": [],
   "source": [
    "short_info = []"
   ]
  },
  {
   "cell_type": "code",
   "execution_count": 28,
   "metadata": {},
   "outputs": [],
   "source": [
    "for i, row in df.iterrows():\n",
    "    short_info.append([row[\"Title\"], row[\"Authors\"][0], row[\"Affiliations\"][0]])"
   ]
  },
  {
   "cell_type": "code",
   "execution_count": 29,
   "metadata": {},
   "outputs": [],
   "source": [
    "pd.DataFrame(short_info).to_csv(\"ICRA_short.csv\")"
   ]
  },
  {
   "cell_type": "code",
   "execution_count": null,
   "metadata": {},
   "outputs": [],
   "source": []
  }
 ],
 "metadata": {
  "kernelspec": {
   "display_name": "Python 3",
   "language": "python",
   "name": "python3"
  },
  "language_info": {
   "codemirror_mode": {
    "name": "ipython",
    "version": 3
   },
   "file_extension": ".py",
   "mimetype": "text/x-python",
   "name": "python",
   "nbconvert_exporter": "python",
   "pygments_lexer": "ipython3",
   "version": "3.7.6"
  }
 },
 "nbformat": 4,
 "nbformat_minor": 5
}
